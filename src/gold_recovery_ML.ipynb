{
 "cells": [
  {
   "attachments": {},
   "cell_type": "markdown",
   "metadata": {
    "toc": true
   },
   "source": [
    "<h1>Tabla de Contenidos<span class=\"tocSkip\"></span></h1>\n",
    "<div class=\"toc\"><ul class=\"toc-item\"><li><span><a href=\"#Introducción\" data-toc-modified-id=\"Introducción-1\">Introducción</a></span><ul class=\"toc-item\"><li><span><a href=\"#Estrategia\" data-toc-modified-id=\"Estrategia-1.1\">Estrategia</a></span></li><li><span><a href=\"#Inicialización\" data-toc-modified-id=\"Inicialización-1.2\">Inicialización</a></span></li><li><span><a href=\"#Carga-los-datos\" data-toc-modified-id=\"Carga-los-datos-1.3\">Carga los datos</a></span></li><li><span><a href=\"#Explorar-datos-iniciales\" data-toc-modified-id=\"Explorar-datos-iniciales-1.4\">Explorar datos iniciales</a></span><ul class=\"toc-item\"><li><span><a href=\"#Denominación-de-las-características\" data-toc-modified-id=\"Denominación-de-las-características-1.4.1\">Denominación de las características</a></span></li><li><span><a href=\"#Proceso-tecnológico\" data-toc-modified-id=\"Proceso-tecnológico-1.4.2\">Proceso tecnológico</a></span></li><li><span><a href=\"#Parámetros-de-las-etapas\" data-toc-modified-id=\"Parámetros-de-las-etapas-1.4.3\">Parámetros de las etapas</a></span></li></ul></li></ul></li><li><span><a href=\"#Preparar-los-datos\" data-toc-modified-id=\"Preparar-los-datos-2\">Preparar los datos</a></span><ul class=\"toc-item\"><li><span><a href=\"#Valores-ausentes\" data-toc-modified-id=\"Valores-ausentes-2.1\">Valores ausentes</a></span></li><li><span><a href=\"#Valores-duplicados\" data-toc-modified-id=\"Valores-duplicados-2.2\">Valores duplicados</a></span></li><li><span><a href=\"#Preprocesar-los-datos\" data-toc-modified-id=\"Preprocesar-los-datos-2.3\">Preprocesar los datos</a></span></li><li><span><a href=\"#Características-objetivo\" data-toc-modified-id=\"Características-objetivo-2.4\">Características objetivo</a></span></li><li><span><a href=\"#Cálculo-de-recuperación\" data-toc-modified-id=\"Cálculo-de-recuperación-2.5\">Cálculo de recuperación</a></span></li></ul></li><li><span><a href=\"#Análisis-de-los-datos\" data-toc-modified-id=\"Análisis-de-los-datos-3\">Análisis de los datos</a></span><ul class=\"toc-item\"><li><span><a href=\"#Variación-de-la-concentración-de-metales\" data-toc-modified-id=\"Variación-de-la-concentración-de-metales-3.1\">Variación de la concentración de metales</a></span></li><li><span><a href=\"#Distribución-en-el-tamaño-de-partículas\" data-toc-modified-id=\"Distribución-en-el-tamaño-de-partículas-3.2\">Distribución en el tamaño de partículas</a></span></li><li><span><a href=\"#Distribución-de-valores-en-las-concentraciones-de-sustancias\" data-toc-modified-id=\"Distribución-de-valores-en-las-concentraciones-de-sustancias-3.3\">Distribución de valores en las concentraciones de sustancias</a></span></li></ul></li><li><span><a href=\"#Construcción-del-modelo\" data-toc-modified-id=\"Construcción-del-modelo-4\">Construcción del modelo</a></span><ul class=\"toc-item\"><li><span><a href=\"#Función-para-calcular-el-sMAPE\" data-toc-modified-id=\"Función-para-calcular-el-sMAPE-4.1\">Función para calcular el <em>sMAPE</em></a></span></li><li><span><a href=\"#Características-y-objetivos\" data-toc-modified-id=\"Características-y-objetivos-4.2\">Características y objetivos</a></span></li><li><span><a href=\"#Entrenar-diferentes-modelos.\" data-toc-modified-id=\"Entrenar-diferentes-modelos.-4.3\">Entrenar diferentes modelos.</a></span><ul class=\"toc-item\"><li><span><a href=\"#Modelo-de-regresión-lineal\" data-toc-modified-id=\"Modelo-de-regresión-lineal-4.3.1\">Modelo de regresión lineal</a></span></li><li><span><a href=\"#Modelo-de-árbol-de-decisiones\" data-toc-modified-id=\"Modelo-de-árbol-de-decisiones-4.3.2\">Modelo de árbol de decisiones</a></span></li><li><span><a href=\"#Modelo-de-bosque-aleatorio-de-regresión\" data-toc-modified-id=\"Modelo-de-bosque-aleatorio-de-regresión-4.3.3\">Modelo de bosque aleatorio de regresión</a></span></li></ul></li><li><span><a href=\"#Evaluación-del-modelo-con-sMAPE\" data-toc-modified-id=\"Evaluación-del-modelo-con-sMAPE-4.4\">Evaluación del modelo con <em>sMAPE</em></a></span><ul class=\"toc-item\"><li><span><a href=\"#Valores-de-validación-para-el-conjunto-de-prueba\" data-toc-modified-id=\"Valores-de-validación-para-el-conjunto-de-prueba-4.4.1\">Valores de validación para el conjunto de prueba</a></span></li><li><span><a href=\"#Puntuación-de-sMAPE-para-el-modelo-de-regresión-lineal\" data-toc-modified-id=\"Puntuación-de-sMAPE-para-el-modelo-de-regresión-lineal-4.4.2\">Puntuación de <em>sMAPE</em> para el modelo de regresión lineal</a></span></li><li><span><a href=\"#Puntuación-de-sMAPE-para-el-modelo-de-bosque-aleatorio\" data-toc-modified-id=\"Puntuación-de-sMAPE-para-el-modelo-de-bosque-aleatorio-4.4.3\">Puntuación de <em>sMAPE</em> para el modelo de bosque aleatorio</a></span></li></ul></li><li><span><a href=\"#Prueba-de-cordura\" data-toc-modified-id=\"Prueba-de-cordura-4.5\">Prueba de cordura</a></span></li></ul></li><li><span><a href=\"#Conclusiones-generales\" data-toc-modified-id=\"Conclusiones-generales-5\">Conclusiones generales</a></span></li></ul></div>"
   ]
  },
  {
   "attachments": {},
   "cell_type": "markdown",
   "metadata": {},
   "source": [
    "# Introducción\n",
    "\n",
    "La empresa Zyfra desarrolla soluciones de eficiencia para la industria pesada. Esta empresa nos pide un prototipo de modelo de machine learning para predecir la cantidad de oro extraído del mineral de oro.\n",
    "\n",
    "Este modelo ayudará a optimizar la producción y eliminar los parámetros no rentables."
   ]
  },
  {
   "attachments": {},
   "cell_type": "markdown",
   "metadata": {},
   "source": [
    "## Estrategia\n",
    "\n",
    "Se nos han proporcionado los datos de extracción y purificación. La estrategia a seguir será la siguiente:\n",
    "\n",
    "   1. Prepararemos, analizaremos los datos en busca de anomalías para luego procesarlas si existen.\n",
    "   <br>\n",
    "   \n",
    "   1. Definiremos una función para calcular el valor sMAPE para poder evaluar los modelos.\n",
    "   <br>\n",
    "   \n",
    "   1. Los datos que se nos han proporcionado ya estan divididos en conjunto de entrenamiento y conjunto de prueba, pero el conjunto de prueba no tiene las características objetivo.\n",
    "   <br>\n",
    "   \n",
    "   1. Evaluaremos los distintos modelos con el sMAPE y aplicando una validación cruzada.\n",
    "   <br>\n",
    "   \n",
    "   1. Al modelo que mejor puntuación obtenga, se le realizará una prueba de cordura y se probará con la muestra de prueba."
   ]
  },
  {
   "attachments": {},
   "cell_type": "markdown",
   "metadata": {},
   "source": [
    "## Inicialización \n",
    "\n",
    "Comenzamos importando las librerías que serán necesarias para el desarrollo del proyecto. Importamos librerías para trabajar con conjuntos de datos como `pandas`, algunos módulos necesarios de la librería `scikit-learn` para crear modelos de ML, entrenarlos y evaluarlos, y librerías para trabajar con gráficos como `matplotlib` y `seaborn`."
   ]
  },
  {
   "cell_type": "code",
   "execution_count": 2,
   "metadata": {},
   "outputs": [],
   "source": [
    "# Carga las librerías\n",
    "\n",
    "import pandas as pd\n",
    "import numpy as np\n",
    "import matplotlib.pyplot as plt\n",
    "import seaborn as sns\n",
    "from scipy import stats as st\n",
    "from pathlib import Path\n",
    "from sklearn.model_selection import cross_val_score\n",
    "from sklearn.linear_model import LinearRegression\n",
    "from sklearn.tree import DecisionTreeRegressor\n",
    "from sklearn.ensemble import RandomForestRegressor\n",
    "from sklearn.metrics import mean_absolute_error"
   ]
  },
  {
   "attachments": {},
   "cell_type": "markdown",
   "metadata": {},
   "source": [
    "## Carga los datos\n",
    "\n",
    "En este proyecto trabajaremos con unos conjuntos de datos que extracción y purificación del oro que la empresa Zyfra nos ha proporcionado."
   ]
  },
  {
   "cell_type": "code",
   "execution_count": 4,
   "metadata": {},
   "outputs": [],
   "source": [
    "# Carga los datos\n",
    "\n",
    "DATA_DIRECTORY = Path('..') / 'data'\n",
    "path_data_full = DATA_DIRECTORY / 'gold_recovery_full.csv'\n",
    "path_data_train = DATA_DIRECTORY / 'gold_recovery_train.csv'\n",
    "path_data_test = DATA_DIRECTORY / 'gold_recovery_test.csv'\n",
    "\n",
    "gold_recovery_data = pd.read_csv(path_data_full)\n",
    "gold_recovery_train = pd.read_csv(path_data_train)\n",
    "gold_recovery_test = pd.read_csv(path_data_test)"
   ]
  },
  {
   "attachments": {},
   "cell_type": "markdown",
   "metadata": {},
   "source": [
    "## Explorar datos iniciales\n",
    "\n",
    "Los DataFrame tiene una columna para cada etapa del proceso y se denominan de la siguiente forma:\n",
    "> `[stage].[parameter_type].[parameter_name]`\n",
    "\n",
    "Ejemplo: `rougher.input.feed_ag`"
   ]
  },
  {
   "attachments": {},
   "cell_type": "markdown",
   "metadata": {},
   "source": [
    "### Denominación de las características\n",
    "\n",
    "Según la estructura, los valores posibles para `[stage]` son:\n",
    "\n",
    " - `rougher` — flotación\n",
    " - `primary_cleaner` — purificación primaria\n",
    " - `secondary_cleaner` — purificación secundaria\n",
    " - `final` — características finales\n",
    " \n",
    "Valores posibles para `[parameter_type]` son:\n",
    "\n",
    " - `input` — parámetros de la materia prima\n",
    " - `output` — parámetros del producto\n",
    " - `state` — parámetros que caracterizan el estado actual de la etapa\n",
    " - `calculation` — características de cálculo\n"
   ]
  },
  {
   "attachments": {},
   "cell_type": "markdown",
   "metadata": {},
   "source": [
    "### Proceso tecnológico\n",
    "\n",
    "La ultima característica de la denominación hace referencia al proceso realizado, donde podemos encontrar estos parámetros:\n",
    "\n",
    " - `Rougher feed` — materia prima\n",
    " - `Rougher additions` (o adiciones de reactivos) - reactivos de flotación: xantato, sulfato, depresante\n",
    "     - `Xantato` — promotor o activador de la flotación\n",
    "     - `Sulfato` — sulfuro de sodio para este proceso en particular\n",
    "     - `Depresante` — silicato de sodio\n",
    " - `Rougher process` — flotación\n",
    " - `Rougher tails` — residuos del producto\n",
    " - `Float banks` — instalación de flotación\n",
    " - `Cleaner process` — purificación\n",
    " - `Rougher Au` — concentrado de oro rougher\n",
    " - `Final Au` — concentrado de oro final"
   ]
  },
  {
   "attachments": {},
   "cell_type": "markdown",
   "metadata": {},
   "source": [
    "### Parámetros de las etapas\n",
    "\n",
    "A su vez, las distintas etapas pueden contener algunos parámetros:\n",
    "\n",
    " - `air amount` — volumen de aire\n",
    " - `fluid levels`\n",
    " - `feed size` — tamaño de las partículas de la alimentación\n",
    " - `feed rate`"
   ]
  },
  {
   "cell_type": "code",
   "execution_count": 5,
   "metadata": {
    "scrolled": false
   },
   "outputs": [
    {
     "name": "stdout",
     "output_type": "stream",
     "text": [
      "<class 'pandas.core.frame.DataFrame'>\n",
      "RangeIndex: 22716 entries, 0 to 22715\n",
      "Data columns (total 87 columns):\n",
      " #   Column                                              Non-Null Count  Dtype  \n",
      "---  ------                                              --------------  -----  \n",
      " 0   date                                                22716 non-null  object \n",
      " 1   final.output.concentrate_ag                         22627 non-null  float64\n",
      " 2   final.output.concentrate_pb                         22629 non-null  float64\n",
      " 3   final.output.concentrate_sol                        22331 non-null  float64\n",
      " 4   final.output.concentrate_au                         22630 non-null  float64\n",
      " 5   final.output.recovery                               20753 non-null  float64\n",
      " 6   final.output.tail_ag                                22633 non-null  float64\n",
      " 7   final.output.tail_pb                                22516 non-null  float64\n",
      " 8   final.output.tail_sol                               22445 non-null  float64\n",
      " 9   final.output.tail_au                                22635 non-null  float64\n",
      " 10  primary_cleaner.input.sulfate                       21107 non-null  float64\n",
      " 11  primary_cleaner.input.depressant                    21170 non-null  float64\n",
      " 12  primary_cleaner.input.feed_size                     22716 non-null  float64\n",
      " 13  primary_cleaner.input.xanthate                      21565 non-null  float64\n",
      " 14  primary_cleaner.output.concentrate_ag               22618 non-null  float64\n",
      " 15  primary_cleaner.output.concentrate_pb               22268 non-null  float64\n",
      " 16  primary_cleaner.output.concentrate_sol              21918 non-null  float64\n",
      " 17  primary_cleaner.output.concentrate_au               22618 non-null  float64\n",
      " 18  primary_cleaner.output.tail_ag                      22614 non-null  float64\n",
      " 19  primary_cleaner.output.tail_pb                      22594 non-null  float64\n",
      " 20  primary_cleaner.output.tail_sol                     22365 non-null  float64\n",
      " 21  primary_cleaner.output.tail_au                      22617 non-null  float64\n",
      " 22  primary_cleaner.state.floatbank8_a_air              22660 non-null  float64\n",
      " 23  primary_cleaner.state.floatbank8_a_level            22667 non-null  float64\n",
      " 24  primary_cleaner.state.floatbank8_b_air              22660 non-null  float64\n",
      " 25  primary_cleaner.state.floatbank8_b_level            22673 non-null  float64\n",
      " 26  primary_cleaner.state.floatbank8_c_air              22662 non-null  float64\n",
      " 27  primary_cleaner.state.floatbank8_c_level            22673 non-null  float64\n",
      " 28  primary_cleaner.state.floatbank8_d_air              22661 non-null  float64\n",
      " 29  primary_cleaner.state.floatbank8_d_level            22673 non-null  float64\n",
      " 30  rougher.calculation.sulfate_to_au_concentrate       22672 non-null  float64\n",
      " 31  rougher.calculation.floatbank10_sulfate_to_au_feed  22672 non-null  float64\n",
      " 32  rougher.calculation.floatbank11_sulfate_to_au_feed  22672 non-null  float64\n",
      " 33  rougher.calculation.au_pb_ratio                     21089 non-null  float64\n",
      " 34  rougher.input.feed_ag                               22618 non-null  float64\n",
      " 35  rougher.input.feed_pb                               22472 non-null  float64\n",
      " 36  rougher.input.feed_rate                             22163 non-null  float64\n",
      " 37  rougher.input.feed_size                             22277 non-null  float64\n",
      " 38  rougher.input.feed_sol                              22357 non-null  float64\n",
      " 39  rougher.input.feed_au                               22617 non-null  float64\n",
      " 40  rougher.input.floatbank10_sulfate                   21415 non-null  float64\n",
      " 41  rougher.input.floatbank10_xanthate                  22247 non-null  float64\n",
      " 42  rougher.input.floatbank11_sulfate                   22038 non-null  float64\n",
      " 43  rougher.input.floatbank11_xanthate                  20459 non-null  float64\n",
      " 44  rougher.output.concentrate_ag                       22618 non-null  float64\n",
      " 45  rougher.output.concentrate_pb                       22618 non-null  float64\n",
      " 46  rougher.output.concentrate_sol                      22526 non-null  float64\n",
      " 47  rougher.output.concentrate_au                       22618 non-null  float64\n",
      " 48  rougher.output.recovery                             19597 non-null  float64\n",
      " 49  rougher.output.tail_ag                              19979 non-null  float64\n",
      " 50  rougher.output.tail_pb                              22618 non-null  float64\n",
      " 51  rougher.output.tail_sol                             19980 non-null  float64\n",
      " 52  rougher.output.tail_au                              19980 non-null  float64\n",
      " 53  rougher.state.floatbank10_a_air                     22646 non-null  float64\n",
      " 54  rougher.state.floatbank10_a_level                   22647 non-null  float64\n",
      " 55  rougher.state.floatbank10_b_air                     22646 non-null  float64\n",
      " 56  rougher.state.floatbank10_b_level                   22647 non-null  float64\n",
      " 57  rougher.state.floatbank10_c_air                     22646 non-null  float64\n",
      " 58  rougher.state.floatbank10_c_level                   22654 non-null  float64\n",
      " 59  rougher.state.floatbank10_d_air                     22641 non-null  float64\n",
      " 60  rougher.state.floatbank10_d_level                   22649 non-null  float64\n",
      " 61  rougher.state.floatbank10_e_air                     22096 non-null  float64\n",
      " 62  rougher.state.floatbank10_e_level                   22649 non-null  float64\n",
      " 63  rougher.state.floatbank10_f_air                     22641 non-null  float64\n",
      " 64  rougher.state.floatbank10_f_level                   22642 non-null  float64\n",
      " 65  secondary_cleaner.output.tail_ag                    22616 non-null  float64\n",
      " 66  secondary_cleaner.output.tail_pb                    22600 non-null  float64\n",
      " 67  secondary_cleaner.output.tail_sol                   20501 non-null  float64\n",
      " 68  secondary_cleaner.output.tail_au                    22618 non-null  float64\n",
      " 69  secondary_cleaner.state.floatbank2_a_air            22333 non-null  float64\n",
      " 70  secondary_cleaner.state.floatbank2_a_level          22591 non-null  float64\n",
      " 71  secondary_cleaner.state.floatbank2_b_air            22538 non-null  float64\n",
      " 72  secondary_cleaner.state.floatbank2_b_level          22588 non-null  float64\n",
      " 73  secondary_cleaner.state.floatbank3_a_air            22585 non-null  float64\n",
      " 74  secondary_cleaner.state.floatbank3_a_level          22587 non-null  float64\n",
      " 75  secondary_cleaner.state.floatbank3_b_air            22592 non-null  float64\n",
      " 76  secondary_cleaner.state.floatbank3_b_level          22590 non-null  float64\n",
      " 77  secondary_cleaner.state.floatbank4_a_air            22571 non-null  float64\n",
      " 78  secondary_cleaner.state.floatbank4_a_level          22587 non-null  float64\n",
      " 79  secondary_cleaner.state.floatbank4_b_air            22608 non-null  float64\n",
      " 80  secondary_cleaner.state.floatbank4_b_level          22607 non-null  float64\n",
      " 81  secondary_cleaner.state.floatbank5_a_air            22615 non-null  float64\n",
      " 82  secondary_cleaner.state.floatbank5_a_level          22615 non-null  float64\n",
      " 83  secondary_cleaner.state.floatbank5_b_air            22615 non-null  float64\n",
      " 84  secondary_cleaner.state.floatbank5_b_level          22616 non-null  float64\n",
      " 85  secondary_cleaner.state.floatbank6_a_air            22597 non-null  float64\n",
      " 86  secondary_cleaner.state.floatbank6_a_level          22615 non-null  float64\n",
      "dtypes: float64(86), object(1)\n",
      "memory usage: 15.1+ MB\n",
      "None\n",
      "\n",
      "<class 'pandas.core.frame.DataFrame'>\n",
      "RangeIndex: 16860 entries, 0 to 16859\n",
      "Data columns (total 87 columns):\n",
      " #   Column                                              Non-Null Count  Dtype  \n",
      "---  ------                                              --------------  -----  \n",
      " 0   date                                                16860 non-null  object \n",
      " 1   final.output.concentrate_ag                         16788 non-null  float64\n",
      " 2   final.output.concentrate_pb                         16788 non-null  float64\n",
      " 3   final.output.concentrate_sol                        16490 non-null  float64\n",
      " 4   final.output.concentrate_au                         16789 non-null  float64\n",
      " 5   final.output.recovery                               15339 non-null  float64\n",
      " 6   final.output.tail_ag                                16794 non-null  float64\n",
      " 7   final.output.tail_pb                                16677 non-null  float64\n",
      " 8   final.output.tail_sol                               16715 non-null  float64\n",
      " 9   final.output.tail_au                                16794 non-null  float64\n",
      " 10  primary_cleaner.input.sulfate                       15553 non-null  float64\n",
      " 11  primary_cleaner.input.depressant                    15598 non-null  float64\n",
      " 12  primary_cleaner.input.feed_size                     16860 non-null  float64\n",
      " 13  primary_cleaner.input.xanthate                      15875 non-null  float64\n",
      " 14  primary_cleaner.output.concentrate_ag               16778 non-null  float64\n",
      " 15  primary_cleaner.output.concentrate_pb               16502 non-null  float64\n",
      " 16  primary_cleaner.output.concentrate_sol              16224 non-null  float64\n",
      " 17  primary_cleaner.output.concentrate_au               16778 non-null  float64\n",
      " 18  primary_cleaner.output.tail_ag                      16777 non-null  float64\n",
      " 19  primary_cleaner.output.tail_pb                      16761 non-null  float64\n",
      " 20  primary_cleaner.output.tail_sol                     16579 non-null  float64\n",
      " 21  primary_cleaner.output.tail_au                      16777 non-null  float64\n",
      " 22  primary_cleaner.state.floatbank8_a_air              16820 non-null  float64\n",
      " 23  primary_cleaner.state.floatbank8_a_level            16827 non-null  float64\n",
      " 24  primary_cleaner.state.floatbank8_b_air              16820 non-null  float64\n",
      " 25  primary_cleaner.state.floatbank8_b_level            16833 non-null  float64\n",
      " 26  primary_cleaner.state.floatbank8_c_air              16822 non-null  float64\n",
      " 27  primary_cleaner.state.floatbank8_c_level            16833 non-null  float64\n",
      " 28  primary_cleaner.state.floatbank8_d_air              16821 non-null  float64\n",
      " 29  primary_cleaner.state.floatbank8_d_level            16833 non-null  float64\n",
      " 30  rougher.calculation.sulfate_to_au_concentrate       16833 non-null  float64\n",
      " 31  rougher.calculation.floatbank10_sulfate_to_au_feed  16833 non-null  float64\n",
      " 32  rougher.calculation.floatbank11_sulfate_to_au_feed  16833 non-null  float64\n",
      " 33  rougher.calculation.au_pb_ratio                     15618 non-null  float64\n",
      " 34  rougher.input.feed_ag                               16778 non-null  float64\n",
      " 35  rougher.input.feed_pb                               16632 non-null  float64\n",
      " 36  rougher.input.feed_rate                             16347 non-null  float64\n",
      " 37  rougher.input.feed_size                             16443 non-null  float64\n",
      " 38  rougher.input.feed_sol                              16568 non-null  float64\n",
      " 39  rougher.input.feed_au                               16777 non-null  float64\n",
      " 40  rougher.input.floatbank10_sulfate                   15816 non-null  float64\n",
      " 41  rougher.input.floatbank10_xanthate                  16514 non-null  float64\n",
      " 42  rougher.input.floatbank11_sulfate                   16237 non-null  float64\n",
      " 43  rougher.input.floatbank11_xanthate                  14956 non-null  float64\n",
      " 44  rougher.output.concentrate_ag                       16778 non-null  float64\n",
      " 45  rougher.output.concentrate_pb                       16778 non-null  float64\n",
      " 46  rougher.output.concentrate_sol                      16698 non-null  float64\n",
      " 47  rougher.output.concentrate_au                       16778 non-null  float64\n",
      " 48  rougher.output.recovery                             14287 non-null  float64\n",
      " 49  rougher.output.tail_ag                              14610 non-null  float64\n",
      " 50  rougher.output.tail_pb                              16778 non-null  float64\n",
      " 51  rougher.output.tail_sol                             14611 non-null  float64\n",
      " 52  rougher.output.tail_au                              14611 non-null  float64\n",
      " 53  rougher.state.floatbank10_a_air                     16807 non-null  float64\n",
      " 54  rougher.state.floatbank10_a_level                   16807 non-null  float64\n",
      " 55  rougher.state.floatbank10_b_air                     16807 non-null  float64\n",
      " 56  rougher.state.floatbank10_b_level                   16807 non-null  float64\n",
      " 57  rougher.state.floatbank10_c_air                     16807 non-null  float64\n",
      " 58  rougher.state.floatbank10_c_level                   16814 non-null  float64\n",
      " 59  rougher.state.floatbank10_d_air                     16802 non-null  float64\n",
      " 60  rougher.state.floatbank10_d_level                   16809 non-null  float64\n",
      " 61  rougher.state.floatbank10_e_air                     16257 non-null  float64\n",
      " 62  rougher.state.floatbank10_e_level                   16809 non-null  float64\n",
      " 63  rougher.state.floatbank10_f_air                     16802 non-null  float64\n",
      " 64  rougher.state.floatbank10_f_level                   16802 non-null  float64\n",
      " 65  secondary_cleaner.output.tail_ag                    16776 non-null  float64\n",
      " 66  secondary_cleaner.output.tail_pb                    16764 non-null  float64\n",
      " 67  secondary_cleaner.output.tail_sol                   14874 non-null  float64\n",
      " 68  secondary_cleaner.output.tail_au                    16778 non-null  float64\n",
      " 69  secondary_cleaner.state.floatbank2_a_air            16497 non-null  float64\n",
      " 70  secondary_cleaner.state.floatbank2_a_level          16751 non-null  float64\n",
      " 71  secondary_cleaner.state.floatbank2_b_air            16705 non-null  float64\n",
      " 72  secondary_cleaner.state.floatbank2_b_level          16748 non-null  float64\n",
      " 73  secondary_cleaner.state.floatbank3_a_air            16763 non-null  float64\n",
      " 74  secondary_cleaner.state.floatbank3_a_level          16747 non-null  float64\n",
      " 75  secondary_cleaner.state.floatbank3_b_air            16752 non-null  float64\n",
      " 76  secondary_cleaner.state.floatbank3_b_level          16750 non-null  float64\n",
      " 77  secondary_cleaner.state.floatbank4_a_air            16731 non-null  float64\n",
      " 78  secondary_cleaner.state.floatbank4_a_level          16747 non-null  float64\n",
      " 79  secondary_cleaner.state.floatbank4_b_air            16768 non-null  float64\n",
      " 80  secondary_cleaner.state.floatbank4_b_level          16767 non-null  float64\n",
      " 81  secondary_cleaner.state.floatbank5_a_air            16775 non-null  float64\n",
      " 82  secondary_cleaner.state.floatbank5_a_level          16775 non-null  float64\n",
      " 83  secondary_cleaner.state.floatbank5_b_air            16775 non-null  float64\n",
      " 84  secondary_cleaner.state.floatbank5_b_level          16776 non-null  float64\n",
      " 85  secondary_cleaner.state.floatbank6_a_air            16757 non-null  float64\n",
      " 86  secondary_cleaner.state.floatbank6_a_level          16775 non-null  float64\n",
      "dtypes: float64(86), object(1)\n",
      "memory usage: 11.2+ MB\n",
      "None\n",
      "\n",
      "<class 'pandas.core.frame.DataFrame'>\n",
      "RangeIndex: 5856 entries, 0 to 5855\n",
      "Data columns (total 53 columns):\n",
      " #   Column                                      Non-Null Count  Dtype  \n",
      "---  ------                                      --------------  -----  \n",
      " 0   date                                        5856 non-null   object \n",
      " 1   primary_cleaner.input.sulfate               5554 non-null   float64\n",
      " 2   primary_cleaner.input.depressant            5572 non-null   float64\n",
      " 3   primary_cleaner.input.feed_size             5856 non-null   float64\n",
      " 4   primary_cleaner.input.xanthate              5690 non-null   float64\n",
      " 5   primary_cleaner.state.floatbank8_a_air      5840 non-null   float64\n",
      " 6   primary_cleaner.state.floatbank8_a_level    5840 non-null   float64\n",
      " 7   primary_cleaner.state.floatbank8_b_air      5840 non-null   float64\n",
      " 8   primary_cleaner.state.floatbank8_b_level    5840 non-null   float64\n",
      " 9   primary_cleaner.state.floatbank8_c_air      5840 non-null   float64\n",
      " 10  primary_cleaner.state.floatbank8_c_level    5840 non-null   float64\n",
      " 11  primary_cleaner.state.floatbank8_d_air      5840 non-null   float64\n",
      " 12  primary_cleaner.state.floatbank8_d_level    5840 non-null   float64\n",
      " 13  rougher.input.feed_ag                       5840 non-null   float64\n",
      " 14  rougher.input.feed_pb                       5840 non-null   float64\n",
      " 15  rougher.input.feed_rate                     5816 non-null   float64\n",
      " 16  rougher.input.feed_size                     5834 non-null   float64\n",
      " 17  rougher.input.feed_sol                      5789 non-null   float64\n",
      " 18  rougher.input.feed_au                       5840 non-null   float64\n",
      " 19  rougher.input.floatbank10_sulfate           5599 non-null   float64\n",
      " 20  rougher.input.floatbank10_xanthate          5733 non-null   float64\n",
      " 21  rougher.input.floatbank11_sulfate           5801 non-null   float64\n",
      " 22  rougher.input.floatbank11_xanthate          5503 non-null   float64\n",
      " 23  rougher.state.floatbank10_a_air             5839 non-null   float64\n",
      " 24  rougher.state.floatbank10_a_level           5840 non-null   float64\n",
      " 25  rougher.state.floatbank10_b_air             5839 non-null   float64\n",
      " 26  rougher.state.floatbank10_b_level           5840 non-null   float64\n",
      " 27  rougher.state.floatbank10_c_air             5839 non-null   float64\n",
      " 28  rougher.state.floatbank10_c_level           5840 non-null   float64\n",
      " 29  rougher.state.floatbank10_d_air             5839 non-null   float64\n",
      " 30  rougher.state.floatbank10_d_level           5840 non-null   float64\n",
      " 31  rougher.state.floatbank10_e_air             5839 non-null   float64\n",
      " 32  rougher.state.floatbank10_e_level           5840 non-null   float64\n",
      " 33  rougher.state.floatbank10_f_air             5839 non-null   float64\n",
      " 34  rougher.state.floatbank10_f_level           5840 non-null   float64\n",
      " 35  secondary_cleaner.state.floatbank2_a_air    5836 non-null   float64\n",
      " 36  secondary_cleaner.state.floatbank2_a_level  5840 non-null   float64\n",
      " 37  secondary_cleaner.state.floatbank2_b_air    5833 non-null   float64\n",
      " 38  secondary_cleaner.state.floatbank2_b_level  5840 non-null   float64\n",
      " 39  secondary_cleaner.state.floatbank3_a_air    5822 non-null   float64\n",
      " 40  secondary_cleaner.state.floatbank3_a_level  5840 non-null   float64\n",
      " 41  secondary_cleaner.state.floatbank3_b_air    5840 non-null   float64\n",
      " 42  secondary_cleaner.state.floatbank3_b_level  5840 non-null   float64\n",
      " 43  secondary_cleaner.state.floatbank4_a_air    5840 non-null   float64\n",
      " 44  secondary_cleaner.state.floatbank4_a_level  5840 non-null   float64\n",
      " 45  secondary_cleaner.state.floatbank4_b_air    5840 non-null   float64\n",
      " 46  secondary_cleaner.state.floatbank4_b_level  5840 non-null   float64\n",
      " 47  secondary_cleaner.state.floatbank5_a_air    5840 non-null   float64\n",
      " 48  secondary_cleaner.state.floatbank5_a_level  5840 non-null   float64\n",
      " 49  secondary_cleaner.state.floatbank5_b_air    5840 non-null   float64\n",
      " 50  secondary_cleaner.state.floatbank5_b_level  5840 non-null   float64\n",
      " 51  secondary_cleaner.state.floatbank6_a_air    5840 non-null   float64\n",
      " 52  secondary_cleaner.state.floatbank6_a_level  5840 non-null   float64\n",
      "dtypes: float64(52), object(1)\n",
      "memory usage: 2.4+ MB\n",
      "None\n"
     ]
    }
   ],
   "source": [
    "# Imprime información de los datos\n",
    "\n",
    "print(gold_recovery_data.info())\n",
    "print()\n",
    "print(gold_recovery_train.info())\n",
    "print()\n",
    "print(gold_recovery_test.info())"
   ]
  },
  {
   "cell_type": "code",
   "execution_count": 6,
   "metadata": {},
   "outputs": [
    {
     "data": {
      "text/html": [
       "<div>\n",
       "<style scoped>\n",
       "    .dataframe tbody tr th:only-of-type {\n",
       "        vertical-align: middle;\n",
       "    }\n",
       "\n",
       "    .dataframe tbody tr th {\n",
       "        vertical-align: top;\n",
       "    }\n",
       "\n",
       "    .dataframe thead th {\n",
       "        text-align: right;\n",
       "    }\n",
       "</style>\n",
       "<table border=\"1\" class=\"dataframe\">\n",
       "  <thead>\n",
       "    <tr style=\"text-align: right;\">\n",
       "      <th></th>\n",
       "      <th>date</th>\n",
       "      <th>final.output.concentrate_ag</th>\n",
       "      <th>final.output.concentrate_pb</th>\n",
       "      <th>final.output.concentrate_sol</th>\n",
       "      <th>final.output.concentrate_au</th>\n",
       "      <th>final.output.recovery</th>\n",
       "      <th>final.output.tail_ag</th>\n",
       "      <th>final.output.tail_pb</th>\n",
       "      <th>final.output.tail_sol</th>\n",
       "      <th>final.output.tail_au</th>\n",
       "      <th>...</th>\n",
       "      <th>secondary_cleaner.state.floatbank4_a_air</th>\n",
       "      <th>secondary_cleaner.state.floatbank4_a_level</th>\n",
       "      <th>secondary_cleaner.state.floatbank4_b_air</th>\n",
       "      <th>secondary_cleaner.state.floatbank4_b_level</th>\n",
       "      <th>secondary_cleaner.state.floatbank5_a_air</th>\n",
       "      <th>secondary_cleaner.state.floatbank5_a_level</th>\n",
       "      <th>secondary_cleaner.state.floatbank5_b_air</th>\n",
       "      <th>secondary_cleaner.state.floatbank5_b_level</th>\n",
       "      <th>secondary_cleaner.state.floatbank6_a_air</th>\n",
       "      <th>secondary_cleaner.state.floatbank6_a_level</th>\n",
       "    </tr>\n",
       "  </thead>\n",
       "  <tbody>\n",
       "    <tr>\n",
       "      <th>0</th>\n",
       "      <td>2016-01-15 00:00:00</td>\n",
       "      <td>6.055403</td>\n",
       "      <td>9.889648</td>\n",
       "      <td>5.507324</td>\n",
       "      <td>42.192020</td>\n",
       "      <td>70.541216</td>\n",
       "      <td>10.411962</td>\n",
       "      <td>0.895447</td>\n",
       "      <td>16.904297</td>\n",
       "      <td>2.143149</td>\n",
       "      <td>...</td>\n",
       "      <td>14.016835</td>\n",
       "      <td>-502.488007</td>\n",
       "      <td>12.099931</td>\n",
       "      <td>-504.715942</td>\n",
       "      <td>9.925633</td>\n",
       "      <td>-498.310211</td>\n",
       "      <td>8.079666</td>\n",
       "      <td>-500.470978</td>\n",
       "      <td>14.151341</td>\n",
       "      <td>-605.841980</td>\n",
       "    </tr>\n",
       "    <tr>\n",
       "      <th>1</th>\n",
       "      <td>2016-01-15 01:00:00</td>\n",
       "      <td>6.029369</td>\n",
       "      <td>9.968944</td>\n",
       "      <td>5.257781</td>\n",
       "      <td>42.701629</td>\n",
       "      <td>69.266198</td>\n",
       "      <td>10.462676</td>\n",
       "      <td>0.927452</td>\n",
       "      <td>16.634514</td>\n",
       "      <td>2.224930</td>\n",
       "      <td>...</td>\n",
       "      <td>13.992281</td>\n",
       "      <td>-505.503262</td>\n",
       "      <td>11.950531</td>\n",
       "      <td>-501.331529</td>\n",
       "      <td>10.039245</td>\n",
       "      <td>-500.169983</td>\n",
       "      <td>7.984757</td>\n",
       "      <td>-500.582168</td>\n",
       "      <td>13.998353</td>\n",
       "      <td>-599.787184</td>\n",
       "    </tr>\n",
       "    <tr>\n",
       "      <th>2</th>\n",
       "      <td>2016-01-15 02:00:00</td>\n",
       "      <td>6.055926</td>\n",
       "      <td>10.213995</td>\n",
       "      <td>5.383759</td>\n",
       "      <td>42.657501</td>\n",
       "      <td>68.116445</td>\n",
       "      <td>10.507046</td>\n",
       "      <td>0.953716</td>\n",
       "      <td>16.208849</td>\n",
       "      <td>2.257889</td>\n",
       "      <td>...</td>\n",
       "      <td>14.015015</td>\n",
       "      <td>-502.520901</td>\n",
       "      <td>11.912783</td>\n",
       "      <td>-501.133383</td>\n",
       "      <td>10.070913</td>\n",
       "      <td>-500.129135</td>\n",
       "      <td>8.013877</td>\n",
       "      <td>-500.517572</td>\n",
       "      <td>14.028663</td>\n",
       "      <td>-601.427363</td>\n",
       "    </tr>\n",
       "    <tr>\n",
       "      <th>3</th>\n",
       "      <td>2016-01-15 03:00:00</td>\n",
       "      <td>6.047977</td>\n",
       "      <td>9.977019</td>\n",
       "      <td>4.858634</td>\n",
       "      <td>42.689819</td>\n",
       "      <td>68.347543</td>\n",
       "      <td>10.422762</td>\n",
       "      <td>0.883763</td>\n",
       "      <td>16.532835</td>\n",
       "      <td>2.146849</td>\n",
       "      <td>...</td>\n",
       "      <td>14.036510</td>\n",
       "      <td>-500.857308</td>\n",
       "      <td>11.999550</td>\n",
       "      <td>-501.193686</td>\n",
       "      <td>9.970366</td>\n",
       "      <td>-499.201640</td>\n",
       "      <td>7.977324</td>\n",
       "      <td>-500.255908</td>\n",
       "      <td>14.005551</td>\n",
       "      <td>-599.996129</td>\n",
       "    </tr>\n",
       "    <tr>\n",
       "      <th>4</th>\n",
       "      <td>2016-01-15 04:00:00</td>\n",
       "      <td>6.148599</td>\n",
       "      <td>10.142511</td>\n",
       "      <td>4.939416</td>\n",
       "      <td>42.774141</td>\n",
       "      <td>66.927016</td>\n",
       "      <td>10.360302</td>\n",
       "      <td>0.792826</td>\n",
       "      <td>16.525686</td>\n",
       "      <td>2.055292</td>\n",
       "      <td>...</td>\n",
       "      <td>14.027298</td>\n",
       "      <td>-499.838632</td>\n",
       "      <td>11.953070</td>\n",
       "      <td>-501.053894</td>\n",
       "      <td>9.925709</td>\n",
       "      <td>-501.686727</td>\n",
       "      <td>7.894242</td>\n",
       "      <td>-500.356035</td>\n",
       "      <td>13.996647</td>\n",
       "      <td>-601.496691</td>\n",
       "    </tr>\n",
       "  </tbody>\n",
       "</table>\n",
       "<p>5 rows × 87 columns</p>\n",
       "</div>"
      ],
      "text/plain": [
       "                  date  final.output.concentrate_ag  \\\n",
       "0  2016-01-15 00:00:00                     6.055403   \n",
       "1  2016-01-15 01:00:00                     6.029369   \n",
       "2  2016-01-15 02:00:00                     6.055926   \n",
       "3  2016-01-15 03:00:00                     6.047977   \n",
       "4  2016-01-15 04:00:00                     6.148599   \n",
       "\n",
       "   final.output.concentrate_pb  final.output.concentrate_sol  \\\n",
       "0                     9.889648                      5.507324   \n",
       "1                     9.968944                      5.257781   \n",
       "2                    10.213995                      5.383759   \n",
       "3                     9.977019                      4.858634   \n",
       "4                    10.142511                      4.939416   \n",
       "\n",
       "   final.output.concentrate_au  final.output.recovery  final.output.tail_ag  \\\n",
       "0                    42.192020              70.541216             10.411962   \n",
       "1                    42.701629              69.266198             10.462676   \n",
       "2                    42.657501              68.116445             10.507046   \n",
       "3                    42.689819              68.347543             10.422762   \n",
       "4                    42.774141              66.927016             10.360302   \n",
       "\n",
       "   final.output.tail_pb  final.output.tail_sol  final.output.tail_au  ...  \\\n",
       "0              0.895447              16.904297              2.143149  ...   \n",
       "1              0.927452              16.634514              2.224930  ...   \n",
       "2              0.953716              16.208849              2.257889  ...   \n",
       "3              0.883763              16.532835              2.146849  ...   \n",
       "4              0.792826              16.525686              2.055292  ...   \n",
       "\n",
       "   secondary_cleaner.state.floatbank4_a_air  \\\n",
       "0                                 14.016835   \n",
       "1                                 13.992281   \n",
       "2                                 14.015015   \n",
       "3                                 14.036510   \n",
       "4                                 14.027298   \n",
       "\n",
       "   secondary_cleaner.state.floatbank4_a_level  \\\n",
       "0                                 -502.488007   \n",
       "1                                 -505.503262   \n",
       "2                                 -502.520901   \n",
       "3                                 -500.857308   \n",
       "4                                 -499.838632   \n",
       "\n",
       "   secondary_cleaner.state.floatbank4_b_air  \\\n",
       "0                                 12.099931   \n",
       "1                                 11.950531   \n",
       "2                                 11.912783   \n",
       "3                                 11.999550   \n",
       "4                                 11.953070   \n",
       "\n",
       "   secondary_cleaner.state.floatbank4_b_level  \\\n",
       "0                                 -504.715942   \n",
       "1                                 -501.331529   \n",
       "2                                 -501.133383   \n",
       "3                                 -501.193686   \n",
       "4                                 -501.053894   \n",
       "\n",
       "   secondary_cleaner.state.floatbank5_a_air  \\\n",
       "0                                  9.925633   \n",
       "1                                 10.039245   \n",
       "2                                 10.070913   \n",
       "3                                  9.970366   \n",
       "4                                  9.925709   \n",
       "\n",
       "   secondary_cleaner.state.floatbank5_a_level  \\\n",
       "0                                 -498.310211   \n",
       "1                                 -500.169983   \n",
       "2                                 -500.129135   \n",
       "3                                 -499.201640   \n",
       "4                                 -501.686727   \n",
       "\n",
       "   secondary_cleaner.state.floatbank5_b_air  \\\n",
       "0                                  8.079666   \n",
       "1                                  7.984757   \n",
       "2                                  8.013877   \n",
       "3                                  7.977324   \n",
       "4                                  7.894242   \n",
       "\n",
       "   secondary_cleaner.state.floatbank5_b_level  \\\n",
       "0                                 -500.470978   \n",
       "1                                 -500.582168   \n",
       "2                                 -500.517572   \n",
       "3                                 -500.255908   \n",
       "4                                 -500.356035   \n",
       "\n",
       "   secondary_cleaner.state.floatbank6_a_air  \\\n",
       "0                                 14.151341   \n",
       "1                                 13.998353   \n",
       "2                                 14.028663   \n",
       "3                                 14.005551   \n",
       "4                                 13.996647   \n",
       "\n",
       "   secondary_cleaner.state.floatbank6_a_level  \n",
       "0                                 -605.841980  \n",
       "1                                 -599.787184  \n",
       "2                                 -601.427363  \n",
       "3                                 -599.996129  \n",
       "4                                 -601.496691  \n",
       "\n",
       "[5 rows x 87 columns]"
      ]
     },
     "execution_count": 6,
     "metadata": {},
     "output_type": "execute_result"
    }
   ],
   "source": [
    "# Imprime una muestra de los datos\n",
    "\n",
    "gold_recovery_data.head()"
   ]
  },
  {
   "attachments": {},
   "cell_type": "markdown",
   "metadata": {},
   "source": [
    "**Observaciones**\n",
    "\n",
    "Podemos observar que hay algunos datos ausentes en los DataFrames.\n",
    "\n",
    "También observamos que en el conjunto de prueba tenemos menos columnas que en los otros dos conjuntos de datos. Estas columnas que faltan se corresponderían con los objetivos que debe predecir el modelo. En la siguiente etapa obtendremos una lista con estas características."
   ]
  },
  {
   "attachments": {},
   "cell_type": "markdown",
   "metadata": {},
   "source": [
    "# Preparar los datos\n",
    "\n",
    "En esta etapa realizaremos algunas comprobaciones sobre el conjunto de datos `gold_recovery_data`:\n",
    "\n",
    " - **Valores ausentes**: Comprobaremos que porción de los datos se corresponde con valores ausentes.\n",
    " - **Valores duplicados**: Se comprobará si existen valores duplicados en el conjunto de datos.\n",
    " - **Características objetivo**: Almacenaremos en una variable las características que no están en el conjunto de datos de prueba para usarlas como objetivo durante el entrenamiento de los modelos.\n",
    " - **Cálculo de recuperación**: Realizaremos la comprobación de que cálculo de recuperación (según nos especifica la compañía) sea correcto. De modo contrario nuestro modelo podría arrojar falsos resultados.\n",
    "\n",
    "_Nota: Las comprobaciones se realizarán sobre el conjunto de datos completo, ya que los otros conjuntos contienen los mismo datos pero segregados._"
   ]
  },
  {
   "attachments": {},
   "cell_type": "markdown",
   "metadata": {},
   "source": [
    "## Valores ausentes\n",
    "\n",
    "Comprobamos las filas con valores ausentes en el dataset completo `gold_recovery_data` y qué porción suponen del total del conjunto de datos. "
   ]
  },
  {
   "cell_type": "code",
   "execution_count": 6,
   "metadata": {},
   "outputs": [
    {
     "name": "stdout",
     "output_type": "stream",
     "text": [
      "date                                            0\n",
      "final.output.concentrate_ag                    89\n",
      "final.output.concentrate_pb                    87\n",
      "final.output.concentrate_sol                  385\n",
      "final.output.concentrate_au                    86\n",
      "                                             ... \n",
      "secondary_cleaner.state.floatbank5_a_level    101\n",
      "secondary_cleaner.state.floatbank5_b_air      101\n",
      "secondary_cleaner.state.floatbank5_b_level    100\n",
      "secondary_cleaner.state.floatbank6_a_air      119\n",
      "secondary_cleaner.state.floatbank6_a_level    101\n",
      "Length: 87, dtype: int64\n"
     ]
    }
   ],
   "source": [
    "# Recuento de los valores ausentes en el DataFrame completo\n",
    "\n",
    "isna_count = (gold_recovery_data.isna()).sum()\n",
    "\n",
    "print(isna_count)"
   ]
  },
  {
   "cell_type": "code",
   "execution_count": 7,
   "metadata": {},
   "outputs": [
    {
     "name": "stdout",
     "output_type": "stream",
     "text": [
      "La proporción promedio de valores ausentes en el dataframe es de 1.85 %\n"
     ]
    }
   ],
   "source": [
    "# Proporción de valores ausentes en el DataFrame completo\n",
    "\n",
    "isna_portion = (isna_count / len(gold_recovery_data)) * 100\n",
    "\n",
    "print('La proporción promedio de valores ausentes en el dataframe es de {:.2f} %'.format(isna_portion.mean()))"
   ]
  },
  {
   "attachments": {},
   "cell_type": "markdown",
   "metadata": {},
   "source": [
    "## Valores duplicados\n",
    "\n",
    "Buscamos si existen valores duplicados en el conjunto de datos completo."
   ]
  },
  {
   "cell_type": "code",
   "execution_count": 8,
   "metadata": {},
   "outputs": [
    {
     "name": "stdout",
     "output_type": "stream",
     "text": [
      "El número de filas con valores duplicados es: 0\n"
     ]
    }
   ],
   "source": [
    "# Recuento de valores duplicados\n",
    "\n",
    "print('El número de filas con valores duplicados es:', gold_recovery_data.duplicated().sum())"
   ]
  },
  {
   "attachments": {},
   "cell_type": "markdown",
   "metadata": {},
   "source": [
    "**Observaciones intermedias**\n",
    "\n",
    "En el conjunto de datos completo encontramos que el porcentaje de valores ausentes no llega al 2% del total de datos, suponiendo un peso despreciable dentro de todo el conjunto. Lo mejor será eliminar dichos valores.\n",
    "\n",
    "Por otro lado, no encontramos valores duplicados."
   ]
  },
  {
   "attachments": {},
   "cell_type": "markdown",
   "metadata": {},
   "source": [
    "## Preprocesar los datos\n",
    "\n",
    "Tras las observaciones anteriores, eliminaremos los valores ausentes de los 3 conjuntos de datos."
   ]
  },
  {
   "cell_type": "code",
   "execution_count": 9,
   "metadata": {},
   "outputs": [],
   "source": [
    "# Elimina los valores ausentes\n",
    "\n",
    "gold_recovery_data = gold_recovery_data.dropna()\n",
    "gold_recovery_train = gold_recovery_train.dropna()\n",
    "gold_recovery_test = gold_recovery_test.dropna()"
   ]
  },
  {
   "attachments": {},
   "cell_type": "markdown",
   "metadata": {},
   "source": [
    "## Características objetivo\n",
    "\n",
    "Comparamos los conjuntos de datos de entrenamiento y de prueba para obtener una lista de las columnas que no aparecen en el conjunto de prueba, ya que esas columnas se corresponden con el objetivo a predecir por el modelo."
   ]
  },
  {
   "cell_type": "code",
   "execution_count": 10,
   "metadata": {},
   "outputs": [
    {
     "data": {
      "text/plain": [
       "{'final.output.concentrate_ag',\n",
       " 'final.output.concentrate_au',\n",
       " 'final.output.concentrate_pb',\n",
       " 'final.output.concentrate_sol',\n",
       " 'final.output.recovery',\n",
       " 'final.output.tail_ag',\n",
       " 'final.output.tail_au',\n",
       " 'final.output.tail_pb',\n",
       " 'final.output.tail_sol',\n",
       " 'primary_cleaner.output.concentrate_ag',\n",
       " 'primary_cleaner.output.concentrate_au',\n",
       " 'primary_cleaner.output.concentrate_pb',\n",
       " 'primary_cleaner.output.concentrate_sol',\n",
       " 'primary_cleaner.output.tail_ag',\n",
       " 'primary_cleaner.output.tail_au',\n",
       " 'primary_cleaner.output.tail_pb',\n",
       " 'primary_cleaner.output.tail_sol',\n",
       " 'rougher.calculation.au_pb_ratio',\n",
       " 'rougher.calculation.floatbank10_sulfate_to_au_feed',\n",
       " 'rougher.calculation.floatbank11_sulfate_to_au_feed',\n",
       " 'rougher.calculation.sulfate_to_au_concentrate',\n",
       " 'rougher.output.concentrate_ag',\n",
       " 'rougher.output.concentrate_au',\n",
       " 'rougher.output.concentrate_pb',\n",
       " 'rougher.output.concentrate_sol',\n",
       " 'rougher.output.recovery',\n",
       " 'rougher.output.tail_ag',\n",
       " 'rougher.output.tail_au',\n",
       " 'rougher.output.tail_pb',\n",
       " 'rougher.output.tail_sol',\n",
       " 'secondary_cleaner.output.tail_ag',\n",
       " 'secondary_cleaner.output.tail_au',\n",
       " 'secondary_cleaner.output.tail_pb',\n",
       " 'secondary_cleaner.output.tail_sol'}"
      ]
     },
     "execution_count": 10,
     "metadata": {},
     "output_type": "execute_result"
    }
   ],
   "source": [
    "# Lista de columnas objetivo\n",
    "\n",
    "target_columns = set(gold_recovery_train.columns).difference(set(gold_recovery_test.columns))\n",
    "\n",
    "target_columns"
   ]
  },
  {
   "attachments": {},
   "cell_type": "markdown",
   "metadata": {},
   "source": [
    "## Cálculo de recuperación\n",
    "\n",
    "La recuperación de oro del mineral de oro se calcula de la suguiente forma:\n",
    "\n",
    "\\begin{equation}\n",
    "Recuperación = \\frac{C \\times (F - T)}{F \\times (C - T)} \\times 100\n",
    "\\end{equation}\n",
    "\n",
    "dónde:\n",
    " - `C` — proporción de oro en el concentrado justo después de la flotación (para saber la recuperación del concentrado rougher)/después de la purificación (para saber la recuperación del concentrado final).\n",
    " - `F` — la proporción de oro en la alimentación antes de la flotación (para saber la recuperación del concentrado rougher)/en el concentrado justo después de la flotación (para saber la recuperación del concentrado final).\n",
    " - `T` — la proporción de oro en las colas rougher justo después de la flotación (para saber la recuperación del concentrado rougher)/después de la purificación (para saber la recuperación del concentrado final).\n",
    " - El resultado se expresa en tanto por ciento (%)."
   ]
  },
  {
   "attachments": {},
   "cell_type": "markdown",
   "metadata": {},
   "source": [
    "De este modo, comprobaremos que el cálculo de la recuperación de la característica `rougher.output.recovery` sea correcta. Realizamos esta comprobación en el conjunto de entrenamient, ya que es el que nos interesa para el entrenamiento de los modelos.\n",
    "\n",
    "El proceso tecnológico sigue el siguiente diagrama:"
   ]
  },
  {
   "attachments": {},
   "cell_type": "markdown",
   "metadata": {},
   "source": [
    "\n",
    "<center><img src=\"gold_recovery_tech_process.png\" alt=\"Proceso tecnológico\" width=\"800\"></center>\n"
   ]
  },
  {
   "attachments": {},
   "cell_type": "markdown",
   "metadata": {},
   "source": [
    "Para el cálculo, necesitaremos las columnas `rougher.input.feed_au` (_F_), `rougher.output.tail_au` (_T_) y `rougher.output.concentrate_au` (_C_). Y comprobaremos la similitud calculando el _EAM_ de ambas distribuciones."
   ]
  },
  {
   "cell_type": "code",
   "execution_count": 11,
   "metadata": {},
   "outputs": [
    {
     "name": "stdout",
     "output_type": "stream",
     "text": [
      "El error absoluto medio entre los valores de la característica y los calculados es: 9.460144184559453e-15\n"
     ]
    }
   ],
   "source": [
    "# Cálculo de recuperación\n",
    "\n",
    "concentrate = gold_recovery_train['rougher.output.concentrate_au']\n",
    "feed = gold_recovery_train['rougher.input.feed_au']\n",
    "tail = gold_recovery_train['rougher.output.tail_au']\n",
    "\n",
    "recovery = ((concentrate * (feed - tail)) / (feed * (concentrate - tail))) * 100\n",
    "\n",
    "# Cálculo del EAM\n",
    "\n",
    "mae = mean_absolute_error(gold_recovery_train['rougher.output.recovery'], recovery)\n",
    "\n",
    "print('El error absoluto medio entre los valores de la característica y los calculados es: {}'.format(mae))"
   ]
  },
  {
   "attachments": {},
   "cell_type": "markdown",
   "metadata": {},
   "source": [
    "En el resultado anterior podemos verificar que el porcentaje de recuperación de oro que aparece en la característica `rougher.output.recovery` es correcto, ya que comparando el error absoluto entre dichos valores y los valores que obtenemos nosotros calculándolo manualmente, es ínfimo."
   ]
  },
  {
   "attachments": {},
   "cell_type": "markdown",
   "metadata": {},
   "source": [
    "# Análisis de los datos\n",
    "\n",
    "Antes de entrenar los modelos, realizaremos un análisis para observar las distribuciones de algunas características que tienen cierta importancia para el entrenamiento de los modelos, como son por ejemplo:\n",
    "\n",
    " - Cómo varía la concentración de metales (_Au_, _Ag_, _Pb_) en función de la etapa de purificación.\n",
    " - Las distribuciones de tamaño de las partículas de la alimentación en los conjuntos de entrenamiento y de prueba, ya que si éstos varían significativamente, afectará a la evaluación del modelo.\n",
    " - Buscar valores anormales en las concentraciones totales de todas las sustancias en las diferentes etapas."
   ]
  },
  {
   "attachments": {},
   "cell_type": "markdown",
   "metadata": {},
   "source": [
    "## Variación de la concentración de metales\n",
    "\n",
    "Analizamos como cambian las concentraciones de los distintos metales en función de las etapas del proceso. Crearemos un DataFrame con los valores promedios de concentración de los metales en cada etapa y lo mostraremos de forma gráfica."
   ]
  },
  {
   "cell_type": "code",
   "execution_count": 12,
   "metadata": {},
   "outputs": [],
   "source": [
    "# Concentración de metales en las etapas del proceso\n",
    "\n",
    "# Índice con los metales\n",
    "metals = ['Au', 'Ag', 'Pb']\n",
    "# Índice con los metales                        \n",
    "stages = ['rougher', 'primary_cleaner', 'final'] \n",
    "\n",
    "# Lista con los String necesarios para filtrar los datos en el bucle\n",
    "concentrates = [                                   \n",
    "    '.output.concentrate_au', \n",
    "    '.output.concentrate_ag', \n",
    "    '.output.concentrate_pb'\n",
    "]\n",
    "\n",
    "# Lista a la que le añadiremos los valores\n",
    "values = [] \n",
    "\n",
    "# Bucle para filtrar los datos y añadir los valores promedio a la lista\n",
    "for i in range(len(stages)):\n",
    "    row = []\n",
    "    for j in range(len(metals)):\n",
    "        row.append(gold_recovery_data[stages[i] + concentrates[j]].mean())\n",
    "    \n",
    "    values.append(row)\n",
    "\n",
    "# Crea el DataFrame con los valores\n",
    "metal_concentration = pd.DataFrame(values, columns=metals, index=stages)"
   ]
  },
  {
   "cell_type": "code",
   "execution_count": 13,
   "metadata": {},
   "outputs": [
    {
     "data": {
      "image/png": "[encoded data removed]",
      "text/plain": [
       "<Figure size 864x432 with 1 Axes>"
      ]
     },
     "metadata": {
      "needs_background": "light"
     },
     "output_type": "display_data"
    }
   ],
   "source": [
    "# Crea un gráfico de barras\n",
    "fig, ax = plt.subplots(figsize=(12, 6))\n",
    "metal_concentration.plot(kind='bar', ax=ax)\n",
    "\n",
    "plt.style.use('seaborn')\n",
    "plt.grid(visible=True, linestyle='--', linewidth=1, alpha=0.8)\n",
    "\n",
    "plt.legend(labels=['Concentración de oro', 'Concentración de plata', 'Concentración de plomo'],\n",
    "           facecolor='white', frameon=True, title='Leyenda')\n",
    "plt.title('Concentración promedio de metales por etapas')\n",
    "\n",
    "plt.show()"
   ]
  },
  {
   "attachments": {},
   "cell_type": "markdown",
   "metadata": {},
   "source": [
    "**Observaciones**\n",
    "\n",
    "Se puede observar que tras cada etapa de purificación, la concentración de oro (_Au_) aumenta de forma lineal. Por otro lado, la concentración de plata (_Ag_) disminuye también de forma lineal, pero en cambio, la concentración de plomo (_Pb_) aumenta ligeramente."
   ]
  },
  {
   "attachments": {},
   "cell_type": "markdown",
   "metadata": {},
   "source": [
    "## Distribución en el tamaño de partículas\n",
    "\n",
    "A continuación analizaremos como se distribuyen el tamaño de las partículas de la alimentación en los conjuntos de entrenamiento y de prueba."
   ]
  },
  {
   "cell_type": "code",
   "execution_count": 14,
   "metadata": {},
   "outputs": [
    {
     "data": {
      "image/png": "[encoded data removed]",
      "text/plain": [
       "<Figure size 864x576 with 1 Axes>"
      ]
     },
     "metadata": {},
     "output_type": "display_data"
    }
   ],
   "source": [
    "# Crea un histograma con la distribución del tamaño de las partículas\n",
    "\n",
    "sns.set(rc={'figure.figsize':(12,8)})\n",
    "sns.set_style('whitegrid')\n",
    "\n",
    "feed_size = [\n",
    "    gold_recovery_train['rougher.input.feed_size'],\n",
    "    gold_recovery_test['rougher.input.feed_size']\n",
    "]\n",
    "\n",
    "color = ['blue', 'orange']\n",
    "\n",
    "for i, feed in enumerate(feed_size):\n",
    "    sns.histplot(data=feed_size[i], bins=100, kde=True, color=color[i], alpha=0.5)\n",
    "\n",
    "plt.title('Distribución del tamaño de partículas en la alimentación')\n",
    "plt.xlabel('Tamaño de las partículas')\n",
    "plt.ylabel('Frecuencia')\n",
    "plt.legend(title='Leyenda', labels=['Conjunto de entrenamiento', 'Conjunto de prueba'],\n",
    "            facecolor='white', frameon=True)\n",
    "plt.show()"
   ]
  },
  {
   "attachments": {},
   "cell_type": "markdown",
   "metadata": {},
   "source": [
    "**Observaciones**\n",
    "\n",
    "En el gráfico se puede ver que la distribución del tamaño de las partículas se encuentra en el mismo rango de valores en ambos conjuntos de datos."
   ]
  },
  {
   "attachments": {},
   "cell_type": "markdown",
   "metadata": {},
   "source": [
    "## Distribución de valores en las concentraciones de sustancias\n",
    "\n",
    "Analizaremos la distribución de los valores en las concentraciones totales de las sustancias en las distintas etapas del proceso de purificación en busca de valores atípicos."
   ]
  },
  {
   "cell_type": "code",
   "execution_count": 15,
   "metadata": {},
   "outputs": [
    {
     "data": {
      "text/plain": [
       "<AxesSubplot:>"
      ]
     },
     "execution_count": 15,
     "metadata": {},
     "output_type": "execute_result"
    },
    {
     "data": {
      "image/png": "[encoded data removed]",
      "text/plain": [
       "<Figure size 864x576 with 1 Axes>"
      ]
     },
     "metadata": {},
     "output_type": "display_data"
    }
   ],
   "source": [
    "# Distribución de las concentraciones totales de las sustancias\n",
    "\n",
    "# Lista para crear el DataFrame\n",
    "total_concentrations = []\n",
    "# Columnas del DataFrame\n",
    "columns = ['rougher_concentrate', 'prim_clean_concentrate', 'final_concentrate']\n",
    "\n",
    "total_concentrations = pd.DataFrame(total_concentrations, columns=columns)  # Crea el DataFrame\n",
    "\n",
    "# Utiliza la lista 'stages' de antes para iterar sobre el conjunto de datos y obtener las concentraciones totales\n",
    "for i in range(len(stages)):\n",
    "    slices = []\n",
    "    for j in range(len(stages)):\n",
    "        slices.append(stages[i] + concentrates[j])\n",
    "\n",
    "    total_concentrations[columns[i]] = gold_recovery_train[slices].sum(axis=1)\n",
    "\n",
    "# Imprime un gráfico de cajas y bigotes\n",
    "sns.boxplot(data=total_concentrations, orient='h')"
   ]
  },
  {
   "attachments": {},
   "cell_type": "markdown",
   "metadata": {},
   "source": [
    "**Observaciones**\n",
    "\n",
    "Tras sumar las concentraciones de sustancias en las diferentes etapas del proceso de purificación, observamos que durante todo el proceso hay valores que se mantienen en 0.\n",
    "\n",
    "Esos valores atípicos en 0 no aportan nada al modelo, ya que pueden deberse a diversos factores, como algun problema en las lecturas que se ha arrastrado durante todo el seguimiento de los datos. Será conveniente eliminar estos datos en el conjunto de entrenamiento para que no afecten al modelo."
   ]
  },
  {
   "cell_type": "code",
   "execution_count": 16,
   "metadata": {},
   "outputs": [],
   "source": [
    "# Elimina los valores atípicos\n",
    "\n",
    "# Crea una variable con una copia de 'gold_recovery_train'\n",
    "slice_drop = gold_recovery_train.copy()\n",
    "\n",
    "for i in range(len(stages)):\n",
    "    for j in range(len(stages)):\n",
    "        # Nombre de la columna concatenando los valores de la lista de etapas y concentrados\n",
    "        column_name = stages[i] + concentrates[j]\n",
    "        # Filtra los valores de la columna que sean distintos de 0\n",
    "        slice_drop = slice_drop[(slice_drop[column_name] != 0)]\n",
    "\n",
    "# Iguala la variable copia al dataset de entrenamiento\n",
    "gold_recovery_train = slice_drop\n"
   ]
  },
  {
   "attachments": {},
   "cell_type": "markdown",
   "metadata": {},
   "source": [
    "# Construcción del modelo\n",
    "\n",
    "La siguiente etapa del proyecto corresponde a la contrucción del modelo para predecir las características objetivo. Se probará con diferentes modelos de regresión buscando el que arroje mejores resultados según su evaluación. La métrica que se utilizará para la evaluación de los modelos será el sMAPE sobre una validación cruzada.\n",
    "\n",
    "El modelo finalmente escogido deberá pasar una prueba de cordura para que sea aceptado."
   ]
  },
  {
   "attachments": {},
   "cell_type": "markdown",
   "metadata": {},
   "source": [
    "## Función para calcular el _sMAPE_\n",
    "\n",
    "En primera instancia definiremos una función para evaluar los modelos mediante el _sMAPE_ (error medio absoluto porcentual simétrico). Utilizaremos esta métrica porque tiene en cuenta la escala tanto del objetivo como de la predicción. Y se calcula de esta forma:\n",
    "\n",
    "\\begin{equation}\n",
    "sMAPE = \\frac{1}{N} \\sum_{i=1}^{n} \\frac{ \\left |y_{i} - \\hat{y}_{i} \\right| }{ \\left( \\left |y_{i} \\right| + \\left| \\hat{y}_{i} \\right| \\right) / 2} \\times 100\n",
    "\\end{equation}"
   ]
  },
  {
   "attachments": {},
   "cell_type": "markdown",
   "metadata": {},
   "source": [
    "Dónde:\n",
    " - $y_{i}$ es el valor del objetivo para la observación con el índice _i_ en el conjunto utilizado para medir la calidad. Sería `y_true`.\n",
    " <br>\n",
    "\n",
    " - $\\hat{y}_{i}$ es el valor de la predicción para la observación con el el índice _i_ en la muestra de prueba. Sería `y_pred`.\n",
    " <br>\n",
    "\n",
    " - _N_ es el número de observaciones de la muestra.\n",
    " <br>\n",
    " \n",
    " - $\\sum_{i=1}^{n}$ es el sumatorio de todas las observaciones de la muestra donde _i_ toma valores de 1 a _N_"
   ]
  },
  {
   "attachments": {},
   "cell_type": "markdown",
   "metadata": {},
   "source": [
    "Después será necesario calcular la métrica de _sMAPE final_, que necesitará las predicciones de:\n",
    "\n",
    " 1. La recuperación del concentrado rougher `rougher.output.recovery`.\n",
    " <br>\n",
    "\n",
    " 1. La recuperación final del concentrado `final.output.recovery`.\n",
    "\n",
    "Y se calcula de esta forma:\n",
    "\n",
    "\\begin{equation}\n",
    "sMAPE final = 25\\% \\times sMAPE(rougher) + 75\\% \\times sMAPE(final)\n",
    "\\end{equation}\n"
   ]
  },
  {
   "cell_type": "code",
   "execution_count": 17,
   "metadata": {},
   "outputs": [],
   "source": [
    "# Define la función para calcular el sMAPE\n",
    "\n",
    "def smape(y_true, y_pred):\n",
    "    \n",
    "    smape = 0\n",
    "\n",
    "    for i in range(len(y_true)):\n",
    "        numerator = abs(y_true[i] - y_pred[i])\n",
    "        denominator = (abs(y_true[i]) + abs(y_pred[i])) / 2\n",
    "\n",
    "        smape += numerator / denominator\n",
    "    \n",
    "    smape = (100 / len(y_true)) * smape\n",
    "    \n",
    "    return smape"
   ]
  },
  {
   "cell_type": "code",
   "execution_count": 18,
   "metadata": {},
   "outputs": [],
   "source": [
    "# Función para el sMAPE final\n",
    "\n",
    "def final_smape(smape_rougher, smape_final):\n",
    "    return (0.25 * smape_rougher) + (0.75 * smape_final)"
   ]
  },
  {
   "attachments": {},
   "cell_type": "markdown",
   "metadata": {},
   "source": [
    "## Características y objetivos\n",
    "\n",
    "Antes de entrenar los modelos, definimos cuales de los valores serán características y cuales objetivos. En la etapa de preprocesamiento de datos ya definimos una lista con las características objetivo (`target`) para el entrenamiento de los modelos."
   ]
  },
  {
   "cell_type": "code",
   "execution_count": 19,
   "metadata": {},
   "outputs": [],
   "source": [
    "# Define las características y los objetivos\n",
    "\n",
    "features = gold_recovery_train.drop(['date'] + list(target_columns), axis=1)\n",
    "target = gold_recovery_train[['rougher.output.recovery', 'final.output.recovery']]\n"
   ]
  },
  {
   "attachments": {},
   "cell_type": "markdown",
   "metadata": {},
   "source": [
    "## Entrenar diferentes modelos.\n",
    "\n",
    "Probaremos diferentes modelos de regresión, ajustando algunos de sus hiperparámetros para optimizarlos de la mejor manera. Los modelos que probaremos son los siguientes:\n",
    "\n",
    " 1. `LinearRegression` - modelo de regresión lineal.\n",
    " <br>\n",
    "\n",
    " 1. `DecisionTreeRegressor` - modelo de tipo árbol de decisiones de regresión.\n",
    " <br>\n",
    "\n",
    " 1. `RandomForesRegressor` - modelo de tipo árbol de bosque aleatorio de regresión."
   ]
  },
  {
   "attachments": {},
   "cell_type": "markdown",
   "metadata": {},
   "source": [
    "### Modelo de regresión lineal\n",
    "\n",
    "En la prueba de modelos, empezamos probando con el modelo de regresión lineal `LinearRegression`."
   ]
  },
  {
   "cell_type": "code",
   "execution_count": 20,
   "metadata": {},
   "outputs": [
    {
     "name": "stdout",
     "output_type": "stream",
     "text": [
      "Puntuación media de la evaluación del modelo: -0.22855193804616586\n"
     ]
    }
   ],
   "source": [
    "# Crea un modelo de regresión lineal\n",
    "\n",
    "linear_model = LinearRegression()\n",
    "# Utiliza validación cruzada y calcula la puntuación R2 de cada subconjunto\n",
    "linear_scores = cross_val_score(linear_model, features, target, cv=10, error_score='raise')\n",
    "\n",
    "# Saca la media de las puntuaciones\n",
    "final_linear_score = linear_scores.mean()\n",
    "\n",
    "print('Puntuación media de la evaluación del modelo:', final_linear_score)"
   ]
  },
  {
   "attachments": {},
   "cell_type": "markdown",
   "metadata": {},
   "source": [
    "**Observaciones**\n",
    "\n",
    "La media de las puntuaciones $R^2$ de los subconjuntos de validación cruzada es menor que 0, por lo que este tipo de modelo no es muy adecuado para el proyecto."
   ]
  },
  {
   "attachments": {},
   "cell_type": "markdown",
   "metadata": {},
   "source": [
    "### Modelo de árbol de decisiones\n",
    "\n",
    "El siguiente modelo que probaremos será el de tipo árbol de decisiones de regresión. Haremos la prueba con un bucle que pruebe con distintos valores para el hiperparámetro `max_depth` que ajusta la profundidad del árbol."
   ]
  },
  {
   "cell_type": "code",
   "execution_count": 21,
   "metadata": {},
   "outputs": [
    {
     "name": "stdout",
     "output_type": "stream",
     "text": [
      "La mejor puntuación media es -0.31992819113058857 con un valor de max_depth de 1\n"
     ]
    }
   ],
   "source": [
    "# Entrena un modelo de árbol de decisión de regresión\n",
    "\n",
    "best_tree_score = -5\n",
    "best_tree_depth = 0\n",
    "\n",
    "# Bucle que prueba distintos valores para max_depth\n",
    "for depth in range(1, 7):\n",
    "    tree_model = DecisionTreeRegressor(random_state=314, max_depth=depth)\n",
    "    # Calcula las puntuaciones R2 de cada subconjunto de la validación cruzada\n",
    "    tree_scores = cross_val_score(tree_model, features, target, cv=10, error_score='raise')\n",
    "\n",
    "    final_tree_score = tree_scores.mean()\n",
    "\n",
    "    if final_tree_score > best_tree_score:\n",
    "        best_tree_score = final_tree_score\n",
    "        best_tree_depth = depth\n",
    "\n",
    "print('La mejor puntuación media es {} con un valor de max_depth de {}'.format(best_tree_score, best_tree_depth))"
   ]
  },
  {
   "attachments": {},
   "cell_type": "markdown",
   "metadata": {},
   "source": [
    "**Observaciones** \n",
    "\n",
    "Utilizando un modelo de árbol de decisión de regresión no obtenemos una puntuación con la validación cruzada mejor que con el modelo de regresión lineal, sino que es ligeramente peor."
   ]
  },
  {
   "attachments": {},
   "cell_type": "markdown",
   "metadata": {},
   "source": [
    "### Modelo de bosque aleatorio de regresión\n",
    "\n",
    "Probamos con el ultimo tipo de modelo. Las pruebas para obtener los hiperparámetros óptimos ralentizan mucho el programa, de este modo se han hecho ya las pruebas y se ha obtenido que la mejor puntuación se obtiene con el valor de `n_estimators` en 100 y el valor de `max_depth` en 6."
   ]
  },
  {
   "cell_type": "code",
   "execution_count": 22,
   "metadata": {},
   "outputs": [
    {
     "name": "stdout",
     "output_type": "stream",
     "text": [
      "La puntuación media del modelo es -0.16819290198828127 con un valor de n_estimators de 100 y un valor de max_depth de 6\n"
     ]
    }
   ],
   "source": [
    "# Entrena un modelo de bosque aleatorio de regresión\n",
    "\n",
    "forest_model = RandomForestRegressor(random_state=314, n_estimators=100, max_depth=6)\n",
    "forest_scores = cross_val_score(forest_model, features, target, cv=10, error_score='raise')\n",
    "\n",
    "final_forest_score = forest_scores.mean()\n",
    "\n",
    "print('La puntuación media del modelo es {} con un valor de n_estimators de 100 y un valor de max_depth de 6'.format(final_forest_score))"
   ]
  },
  {
   "attachments": {},
   "cell_type": "markdown",
   "metadata": {},
   "source": [
    "**Observaciones**\n",
    "\n",
    "Tras probar este modelo, obtenemos una puntuación media en el $R^2$ de la validación cruzada algo mejor que con los modelos anteriores, pero manteniéndose por debajo de 0."
   ]
  },
  {
   "attachments": {},
   "cell_type": "markdown",
   "metadata": {},
   "source": [
    "## Evaluación del modelo con _sMAPE_\n",
    "\n",
    "Tras el entrenamiento de los modelos y evaluarlos con la métrica $R^2$ promedio de los subconjuntos de la validación cruzada, no hemos obtenido unos resultados muy buenos. Evaluaremos los dos mejores modelos (`LinearRegression` y `RandomForestRegressor`) con la métrica sMAPE en un en el conjunto de prueba y al modelo que obtenga un mejor resultado le pasaremos la prueba de cordura."
   ]
  },
  {
   "attachments": {},
   "cell_type": "markdown",
   "metadata": {},
   "source": [
    "### Valores de validación para el conjunto de prueba\n",
    "\n",
    "Para poder realizar la prueba, necesitamos obtener los valores de validación de las características objetivo del conjunto de datos de prueba, que se encuentran en `gold_recovery_data`.\n",
    "\n",
    "En ambos conjuntos de datos, las filas se indexan por medio de la fecha de obtención de los datos, de esta forma puedo localizar los valores de las características objetivo del conjunto de datos de prueba que se encuentran en el conjunto de datos completo."
   ]
  },
  {
   "cell_type": "code",
   "execution_count": 23,
   "metadata": {},
   "outputs": [],
   "source": [
    "# Obtengo los valores y_true de los objetivos del conjunto de prueba\n",
    "test_valid = (gold_recovery_data\n",
    "              .loc[gold_recovery_data['date']\n",
    "              .isin(gold_recovery_test['date'])]\n",
    "              [['date', 'rougher.output.recovery', 'final.output.recovery']]\n",
    "              .reset_index(drop=True)\n",
    "             )\n",
    "\n",
    "# Igualo las longitudes de los conjuntos de datos y alineo los datos\n",
    "gold_recovery_test = gold_recovery_test.loc[gold_recovery_test['date'].isin(test_valid['date'])]"
   ]
  },
  {
   "attachments": {},
   "cell_type": "markdown",
   "metadata": {},
   "source": [
    "### Puntuación de _sMAPE_ para el modelo de regresión lineal\n",
    "\n",
    "Calculamos la puntuación _sMAPE_ del modelo de regresión lineal."
   ]
  },
  {
   "cell_type": "code",
   "execution_count": 24,
   "metadata": {},
   "outputs": [
    {
     "name": "stdout",
     "output_type": "stream",
     "text": [
      "La puntuación del sMAPE para el modelo de regresión lineal es: 8.02 %\n"
     ]
    }
   ],
   "source": [
    "# Entrena el modelo con el conjunto de entrenamiento\n",
    "linear_model.fit(features, target)\n",
    "\n",
    "# Predice los resultados de las características objetivo y convierte las predicciones en un DataFrame\n",
    "predict_test = pd.DataFrame(linear_model.predict(gold_recovery_test.drop('date', axis=1)), columns=['rougher_recovery', 'final_recovery'])\n",
    "\n",
    "# Calcula el sMAPE de ambas columnas\n",
    "linear_smape_rougher = smape(test_valid['rougher.output.recovery'], predict_test['rougher_recovery'])\n",
    "linear_smape_final = smape(test_valid['final.output.recovery'], predict_test['final_recovery'])\n",
    "\n",
    "# Calcula el sMAPE final\n",
    "linear_smape = final_smape(linear_smape_rougher, linear_smape_final)\n",
    "\n",
    "print('La puntuación del sMAPE para el modelo de regresión lineal es: {:.2f} %'.format(linear_smape))"
   ]
  },
  {
   "attachments": {},
   "cell_type": "markdown",
   "metadata": {},
   "source": [
    "### Puntuación de _sMAPE_ para el modelo de bosque aleatorio\n",
    "\n",
    "Calculamos la puntuación _sMAPE_ del modelo de bosque aleatorio."
   ]
  },
  {
   "cell_type": "code",
   "execution_count": 25,
   "metadata": {},
   "outputs": [
    {
     "name": "stdout",
     "output_type": "stream",
     "text": [
      "La puntuación del sMAPE para el modelo de regresión lineal es: 8.82 %\n"
     ]
    }
   ],
   "source": [
    "# Entrena el modelo con el conjunto de entrenamiento\n",
    "forest_model.fit(features, target)\n",
    "\n",
    "# Predice los resultados de las características objetivo y convierte las predicciones en un DataFrame\n",
    "predict_test = pd.DataFrame(forest_model.predict(gold_recovery_test.drop('date', axis=1)), columns=['rougher_recovery', 'final_recovery'])\n",
    "\n",
    "# Calcula el sMAPE de ambas columnas\n",
    "forest_smape_rougher = smape(test_valid['rougher.output.recovery'], predict_test['rougher_recovery'])\n",
    "forest_smape_final = smape(test_valid['final.output.recovery'], predict_test['final_recovery'])\n",
    "\n",
    "# Calcula el sMAPE final\n",
    "forest_smape = final_smape(forest_smape_rougher, forest_smape_final)\n",
    "\n",
    "print('La puntuación del sMAPE para el modelo de regresión lineal es: {:.2f} %'.format(forest_smape))"
   ]
  },
  {
   "attachments": {},
   "cell_type": "markdown",
   "metadata": {},
   "source": [
    "**Observaciones**\n",
    "\n",
    "La puntuación final del _sMAPE_ es ligeramente menor en el modelo de regresión lineal, ya que el sMAPE indica una mejor calidad cuánto más próximo sea a 0. Por lo tanto, compararemos el resultado obtenido por el modelo de regresión lineal con el de un modelo constante en la prueba de cordura."
   ]
  },
  {
   "attachments": {},
   "cell_type": "markdown",
   "metadata": {},
   "source": [
    "## Prueba de cordura\n",
    "\n",
    "Finalmente, sometemos el modelo `linear_model` (modelo de tipo `LinearRegressor`) a la prueba de cordura, en la que lo compararemos con un modelo constante que predice valores medios."
   ]
  },
  {
   "cell_type": "code",
   "execution_count": 26,
   "metadata": {},
   "outputs": [],
   "source": [
    "# Modelo constante\n",
    "target_constant = [target['rougher.output.recovery'].mean(), target['final.output.recovery'].mean()]\n",
    "\n",
    "predict_constant = pd.DataFrame(\n",
    "    {\n",
    "      'rougher.output.recovery': [target_constant[0]]*len(test_valid),\n",
    "      'final.output.recovery': [target_constant[1]]*len(test_valid)\n",
    "    },\n",
    "    index=test_valid.index\n",
    ")\n",
    "\n"
   ]
  },
  {
   "cell_type": "code",
   "execution_count": 27,
   "metadata": {},
   "outputs": [
    {
     "name": "stdout",
     "output_type": "stream",
     "text": [
      "La puntuación del sMAPE para el modelo de regresión lineal es: 8.70 %\n"
     ]
    }
   ],
   "source": [
    "# sMAPE del modelo constante\n",
    "\n",
    "# Calcula el sMAPE de ambas columnas\n",
    "constant_smape_rougher = smape(test_valid['rougher.output.recovery'], predict_constant['rougher.output.recovery'])\n",
    "constant_smape_final = smape(test_valid['final.output.recovery'], predict_constant['final.output.recovery'])\n",
    "\n",
    "# Calcula el sMAPE final\n",
    "constant_smape = final_smape(constant_smape_rougher, constant_smape_final)\n",
    "\n",
    "print('La puntuación del sMAPE para el modelo de regresión lineal es: {:.2f} %'.format(constant_smape))"
   ]
  },
  {
   "attachments": {},
   "cell_type": "markdown",
   "metadata": {},
   "source": [
    "**Conclusiones intermedias**\n",
    "\n",
    "El modelo de regresión lineal obtuvo una puntuación _sMAPE_ del 8.02 % mientras que el modelo constante obtuvo una puntuación de 8.70 %. Hay una diferencia de 0.68 puntos porcentuales en el sMAPE a favor del modelo de regresión lineal, lo cual es significativo. De este modo, este modelo supera la prueba de cordura."
   ]
  },
  {
   "attachments": {},
   "cell_type": "markdown",
   "metadata": {},
   "source": [
    "# Conclusiones generales\n",
    "\n",
    "Para finalizar, se enumeran las conclusiones generales obtenidas a lo largo del proyecto:\n",
    "\n",
    " 1. Se observó que el cálculo de recuperación de oro que nos proporciona la compañía se adapta fielmente al arrojado por los datos.\n",
    " <br>\n",
    " \n",
    " 1. Los datos contenían algunos valores anómalos en las concentraciones de sustancias que hubo que eliminar.\n",
    " <br>\n",
    " \n",
    " 1. La puntuación $R^2$ media de los modelos evaluados con validación cruzada indicaba que el modelo de bosque aleatorio era mejor que el modelo de regresión lineal. En cambio, tras evaluarlo con la métrica sMAPE, ésta indicaba que el modelo más óptimo era el modelo de regresión lineal.\n",
    " <br>\n",
    " \n",
    " 1. El modelo de regresión lineal pasó la prueba de cordura frente a un modelo constante."
   ]
  }
 ],
 "metadata": {
  "kernelspec": {
   "display_name": "Python 3 (ipykernel)",
   "language": "python",
   "name": "python3"
  },
  "language_info": {
   "codemirror_mode": {
    "name": "ipython",
    "version": 3
   },
   "file_extension": ".py",
   "mimetype": "text/x-python",
   "name": "python",
   "nbconvert_exporter": "python",
   "pygments_lexer": "ipython3",
   "version": "3.9.12"
  },
  "toc": {
   "base_numbering": 1,
   "nav_menu": {},
   "number_sections": false,
   "sideBar": true,
   "skip_h1_title": false,
   "title_cell": "Tabla de Contenidos",
   "title_sidebar": "Contenidos",
   "toc_cell": true,
   "toc_position": {
    "height": "calc(100% - 180px)",
    "left": "10px",
    "top": "150px",
    "width": "343.391px"
   },
   "toc_section_display": true,
   "toc_window_display": false
  }
 },
 "nbformat": 4,
 "nbformat_minor": 2
}
